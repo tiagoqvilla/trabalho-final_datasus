{
 "cells": [
  {
   "cell_type": "code",
   "execution_count": 20,
   "metadata": {},
   "outputs": [],
   "source": [
    "import csv\n",
    "import os"
   ]
  },
  {
   "cell_type": "code",
   "execution_count": 31,
   "metadata": {},
   "outputs": [],
   "source": [
    "def process_csv_file(file_path):\n",
    "    with open(file_path, mode='r', encoding='utf-8') as file:\n",
    "        reader = csv.reader(file, delimiter=';')\n",
    "        measurements = []\n",
    "        \n",
    "        # Variáveis para armazenar informações\n",
    "        city_name = \"\"\n",
    "        data_found = False\n",
    "        \n",
    "        for row in reader:\n",
    "            if row and row[0].startswith(\"Nome:\"):\n",
    "                city_name = row[0].split(\"Nome:\")[1].strip()\n",
    "            if data_found:\n",
    "                if len(row) == 3:\n",
    "                    date = row[0]\n",
    "                    precipitation = row[1]\n",
    "                    measurements.append((date, precipitation))\n",
    "            if row and row[0] == \"Data Medicao\" and row[1] == \"PRECIPITACAO TOTAL, MENSAL(mm)\":\n",
    "                data_found = True\n",
    "\n",
    "    return city_name, measurements"
   ]
  },
  {
   "cell_type": "code",
   "execution_count": 41,
   "metadata": {},
   "outputs": [],
   "source": [
    "def write_to_csv(cidade, medicoes, output_file):\n",
    "    with open(output_file, mode='a', encoding='utf-8', newline='') as file:\n",
    "        writer = csv.writer(file, delimiter=';')\n",
    "        # Escrever as linhas de dados\n",
    "        for data, medicao in medicoes:\n",
    "            writer.writerow([data, cidade, medicao])"
   ]
  },
  {
   "cell_type": "code",
   "execution_count": 43,
   "metadata": {},
   "outputs": [],
   "source": [
    "city, measures = process_csv_file('/Users/vitordelela/Downloads/DadosInmet2007a2012/dados_82024_M_2007-01-01_2012-12-31.csv')\n",
    "\n",
    "output_file = 'resumo_medicoes.csv'\n",
    "write_to_csv(city, measures, output_file)"
   ]
  },
  {
   "cell_type": "code",
   "execution_count": 50,
   "metadata": {},
   "outputs": [],
   "source": [
    "output_file = 'resumo_medicoes.csv'\n",
    "input_folder = '/Users/vitordelela/Downloads/DadosInmet2007a2012'\n",
    "\n",
    "for file_name in os.listdir(input_folder):\n",
    "    if file_name.endswith('.csv'):\n",
    "        file_path = os.path.join(input_folder, file_name)\n",
    "        #print(file_path)\n",
    "        city, measures = process_csv_file(file_path)\n",
    "        write_to_csv(city, measures, output_file)"
   ]
  },
  {
   "cell_type": "markdown",
   "metadata": {},
   "source": [
    "Agora extraindo o nome de todas cidades e regioes"
   ]
  },
  {
   "cell_type": "code",
   "execution_count": 60,
   "metadata": {},
   "outputs": [],
   "source": [
    "import pandas as pd\n",
    "df = pd.read_csv('resumo_medicoes.csv', sep=';')\n",
    "df.head()\n",
    "df['cidade'].unique()\n",
    "\n",
    "with open('cidades.txt', mode='w', encoding='utf-8', newline='') as file:\n",
    "        for cidade in df['cidade'].unique():\n",
    "            file.write(cidade + '\\n')\n",
    "    "
   ]
  },
  {
   "cell_type": "code",
   "execution_count": 63,
   "metadata": {},
   "outputs": [
    {
     "name": "stdout",
     "output_type": "stream",
     "text": [
      "Cidades da primeira lista que não estão na segunda lista:\n",
      "LINHARES\n",
      "LENCOIS\n",
      "PASSA QUATRO\n",
      "LONDRINA\n",
      "PAULO AFONSO\n",
      "ALTO PARNAIBA\n",
      "FLORESTAL\n",
      "LAVRAS\n",
      "PAO DE ACUCAR\n",
      "BELTERRA\n",
      "LUZIANIA\n",
      "CATALAO\n",
      "BARRA DO RIO GRANDE\n",
      "TAUA\n"
     ]
    }
   ],
   "source": [
    "# Ler primeira lista de cidades\n",
    "with open('cidades.txt', 'r', encoding='utf-8') as f:\n",
    "    cidades_primeira = [cidade.strip() for cidade in f.readlines()]\n",
    "\n",
    "# Ler segunda lista de cidades\n",
    "with open('cities.txt', 'r', encoding='utf-8') as f:\n",
    "    cidades_segunda = [linha.strip().split(';')[0] for linha in f.readlines()]\n",
    "\n",
    "# Converter listas para conjuntos para facilitar a comparação\n",
    "set_primeira = set(cidades_primeira)\n",
    "set_segunda = set(cidades_segunda)\n",
    "\n",
    "# Encontrar as cidades da primeira lista que não estão na segunda lista\n",
    "cidades_nao_presentes =  set_primeira - set_segunda\n",
    "\n",
    "# Imprimir as cidades que não estão na segunda lista\n",
    "print(\"Cidades da primeira lista que não estão na segunda lista:\")\n",
    "for cidade in cidades_nao_presentes:\n",
    "    print(cidade)\n"
   ]
  }
 ],
 "metadata": {
  "kernelspec": {
   "display_name": "Python 3",
   "language": "python",
   "name": "python3"
  },
  "language_info": {
   "codemirror_mode": {
    "name": "ipython",
    "version": 3
   },
   "file_extension": ".py",
   "mimetype": "text/x-python",
   "name": "python",
   "nbconvert_exporter": "python",
   "pygments_lexer": "ipython3",
   "version": "3.10.2"
  }
 },
 "nbformat": 4,
 "nbformat_minor": 2
}
