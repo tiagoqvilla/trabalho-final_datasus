{
 "cells": [
  {
   "cell_type": "code",
   "execution_count": 1,
   "id": "5e2531da-4991-43ae-896c-38b1a3a453d1",
   "metadata": {
    "tags": []
   },
   "outputs": [],
   "source": [
    "import datasus_dbc"
   ]
  },
  {
   "cell_type": "code",
   "execution_count": 2,
   "id": "3b4f4261-0625-47f0-b779-f15d105626c2",
   "metadata": {
    "tags": []
   },
   "outputs": [],
   "source": [
    "datasus_dbc.decompress(\"LEPTBR20.dbc\", \"LEPTBR20.dbf\")"
   ]
  },
  {
   "cell_type": "code",
   "execution_count": 1,
   "id": "97c2acba-4cce-4bb0-815c-e7251770e4ef",
   "metadata": {
    "tags": []
   },
   "outputs": [],
   "source": [
    "import pandas as pd\n",
    "from dbfread import DBF"
   ]
  },
  {
   "cell_type": "code",
   "execution_count": 3,
   "id": "2190ac15-7a7b-4b4e-b61a-19c484ac91c3",
   "metadata": {},
   "outputs": [
    {
     "ename": "UnicodeDecodeError",
     "evalue": "'ascii' codec can't decode byte 0xc7 in position 10: ordinal not in range(128)",
     "output_type": "error",
     "traceback": [
      "\u001b[0;31m---------------------------------------------------------------------------\u001b[0m",
      "\u001b[0;31mUnicodeDecodeError\u001b[0m                        Traceback (most recent call last)",
      "Cell \u001b[0;32mIn[3], line 4\u001b[0m\n\u001b[1;32m      1\u001b[0m \u001b[38;5;28;01mfrom\u001b[39;00m \u001b[38;5;21;01mpandas\u001b[39;00m \u001b[38;5;28;01mimport\u001b[39;00m DataFrame\n\u001b[1;32m      3\u001b[0m dbf \u001b[38;5;241m=\u001b[39m DBF(\u001b[38;5;124m'\u001b[39m\u001b[38;5;124mLEPTBR20.dbf\u001b[39m\u001b[38;5;124m'\u001b[39m)\n\u001b[0;32m----> 4\u001b[0m df \u001b[38;5;241m=\u001b[39m DataFrame(\u001b[38;5;28miter\u001b[39m(dbf))\n",
      "File \u001b[0;32m~/anaconda3/lib/python3.11/site-packages/pandas/core/frame.py:843\u001b[0m, in \u001b[0;36mDataFrame.__init__\u001b[0;34m(self, data, index, columns, dtype, copy)\u001b[0m\n\u001b[1;32m    841\u001b[0m         data \u001b[38;5;241m=\u001b[39m np\u001b[38;5;241m.\u001b[39masarray(data)\n\u001b[1;32m    842\u001b[0m     \u001b[38;5;28;01melse\u001b[39;00m:\n\u001b[0;32m--> 843\u001b[0m         data \u001b[38;5;241m=\u001b[39m \u001b[38;5;28mlist\u001b[39m(data)\n\u001b[1;32m    844\u001b[0m \u001b[38;5;28;01mif\u001b[39;00m \u001b[38;5;28mlen\u001b[39m(data) \u001b[38;5;241m>\u001b[39m \u001b[38;5;241m0\u001b[39m:\n\u001b[1;32m    845\u001b[0m     \u001b[38;5;28;01mif\u001b[39;00m is_dataclass(data[\u001b[38;5;241m0\u001b[39m]):\n",
      "File \u001b[0;32m~/anaconda3/lib/python3.11/site-packages/dbfread/dbf.py:314\u001b[0m, in \u001b[0;36mDBF._iter_records\u001b[0;34m(self, record_type)\u001b[0m\n\u001b[1;32m    311\u001b[0m         items \u001b[38;5;241m=\u001b[39m [(field\u001b[38;5;241m.\u001b[39mname, read(field\u001b[38;5;241m.\u001b[39mlength)) \\\n\u001b[1;32m    312\u001b[0m                  \u001b[38;5;28;01mfor\u001b[39;00m field \u001b[38;5;129;01min\u001b[39;00m \u001b[38;5;28mself\u001b[39m\u001b[38;5;241m.\u001b[39mfields]\n\u001b[1;32m    313\u001b[0m     \u001b[38;5;28;01melse\u001b[39;00m:\n\u001b[0;32m--> 314\u001b[0m         items \u001b[38;5;241m=\u001b[39m [(field\u001b[38;5;241m.\u001b[39mname,\n\u001b[1;32m    315\u001b[0m                   parse(field, read(field\u001b[38;5;241m.\u001b[39mlength))) \\\n\u001b[1;32m    316\u001b[0m                  \u001b[38;5;28;01mfor\u001b[39;00m field \u001b[38;5;129;01min\u001b[39;00m \u001b[38;5;28mself\u001b[39m\u001b[38;5;241m.\u001b[39mfields]\n\u001b[1;32m    318\u001b[0m     \u001b[38;5;28;01myield\u001b[39;00m \u001b[38;5;28mself\u001b[39m\u001b[38;5;241m.\u001b[39mrecfactory(items)\n\u001b[1;32m    320\u001b[0m \u001b[38;5;28;01melif\u001b[39;00m sep \u001b[38;5;129;01min\u001b[39;00m (\u001b[38;5;124mb\u001b[39m\u001b[38;5;124m'\u001b[39m\u001b[38;5;130;01m\\x1a\u001b[39;00m\u001b[38;5;124m'\u001b[39m, \u001b[38;5;124mb\u001b[39m\u001b[38;5;124m'\u001b[39m\u001b[38;5;124m'\u001b[39m):\n\u001b[1;32m    321\u001b[0m     \u001b[38;5;66;03m# End of records.\u001b[39;00m\n",
      "File \u001b[0;32m~/anaconda3/lib/python3.11/site-packages/dbfread/dbf.py:315\u001b[0m, in \u001b[0;36m<listcomp>\u001b[0;34m(.0)\u001b[0m\n\u001b[1;32m    311\u001b[0m         items \u001b[38;5;241m=\u001b[39m [(field\u001b[38;5;241m.\u001b[39mname, read(field\u001b[38;5;241m.\u001b[39mlength)) \\\n\u001b[1;32m    312\u001b[0m                  \u001b[38;5;28;01mfor\u001b[39;00m field \u001b[38;5;129;01min\u001b[39;00m \u001b[38;5;28mself\u001b[39m\u001b[38;5;241m.\u001b[39mfields]\n\u001b[1;32m    313\u001b[0m     \u001b[38;5;28;01melse\u001b[39;00m:\n\u001b[1;32m    314\u001b[0m         items \u001b[38;5;241m=\u001b[39m [(field\u001b[38;5;241m.\u001b[39mname,\n\u001b[0;32m--> 315\u001b[0m                   parse(field, read(field\u001b[38;5;241m.\u001b[39mlength))) \\\n\u001b[1;32m    316\u001b[0m                  \u001b[38;5;28;01mfor\u001b[39;00m field \u001b[38;5;129;01min\u001b[39;00m \u001b[38;5;28mself\u001b[39m\u001b[38;5;241m.\u001b[39mfields]\n\u001b[1;32m    318\u001b[0m     \u001b[38;5;28;01myield\u001b[39;00m \u001b[38;5;28mself\u001b[39m\u001b[38;5;241m.\u001b[39mrecfactory(items)\n\u001b[1;32m    320\u001b[0m \u001b[38;5;28;01melif\u001b[39;00m sep \u001b[38;5;129;01min\u001b[39;00m (\u001b[38;5;124mb\u001b[39m\u001b[38;5;124m'\u001b[39m\u001b[38;5;130;01m\\x1a\u001b[39;00m\u001b[38;5;124m'\u001b[39m, \u001b[38;5;124mb\u001b[39m\u001b[38;5;124m'\u001b[39m\u001b[38;5;124m'\u001b[39m):\n\u001b[1;32m    321\u001b[0m     \u001b[38;5;66;03m# End of records.\u001b[39;00m\n",
      "File \u001b[0;32m~/anaconda3/lib/python3.11/site-packages/dbfread/field_parser.py:79\u001b[0m, in \u001b[0;36mFieldParser.parse\u001b[0;34m(self, field, data)\u001b[0m\n\u001b[1;32m     77\u001b[0m     \u001b[38;5;28;01mraise\u001b[39;00m \u001b[38;5;167;01mValueError\u001b[39;00m(\u001b[38;5;124m'\u001b[39m\u001b[38;5;124mUnknown field type: \u001b[39m\u001b[38;5;132;01m{!r}\u001b[39;00m\u001b[38;5;124m'\u001b[39m\u001b[38;5;241m.\u001b[39mformat(field\u001b[38;5;241m.\u001b[39mtype))\n\u001b[1;32m     78\u001b[0m \u001b[38;5;28;01melse\u001b[39;00m:\n\u001b[0;32m---> 79\u001b[0m     \u001b[38;5;28;01mreturn\u001b[39;00m func(field, data)\n",
      "File \u001b[0;32m~/anaconda3/lib/python3.11/site-packages/dbfread/field_parser.py:87\u001b[0m, in \u001b[0;36mFieldParser.parseC\u001b[0;34m(self, field, data)\u001b[0m\n\u001b[1;32m     85\u001b[0m \u001b[38;5;28;01mdef\u001b[39;00m \u001b[38;5;21mparseC\u001b[39m(\u001b[38;5;28mself\u001b[39m, field, data):\n\u001b[1;32m     86\u001b[0m \u001b[38;5;250m    \u001b[39m\u001b[38;5;124;03m\"\"\"Parse char field and return unicode string\"\"\"\u001b[39;00m\n\u001b[0;32m---> 87\u001b[0m     \u001b[38;5;28;01mreturn\u001b[39;00m \u001b[38;5;28mself\u001b[39m\u001b[38;5;241m.\u001b[39mdecode_text(data\u001b[38;5;241m.\u001b[39mrstrip(\u001b[38;5;124mb\u001b[39m\u001b[38;5;124m'\u001b[39m\u001b[38;5;130;01m\\0\u001b[39;00m\u001b[38;5;124m \u001b[39m\u001b[38;5;124m'\u001b[39m))\n",
      "File \u001b[0;32m~/anaconda3/lib/python3.11/site-packages/dbfread/field_parser.py:45\u001b[0m, in \u001b[0;36mFieldParser.decode_text\u001b[0;34m(self, text)\u001b[0m\n\u001b[1;32m     44\u001b[0m \u001b[38;5;28;01mdef\u001b[39;00m \u001b[38;5;21mdecode_text\u001b[39m(\u001b[38;5;28mself\u001b[39m, text):\n\u001b[0;32m---> 45\u001b[0m     \u001b[38;5;28;01mreturn\u001b[39;00m decode_text(text, \u001b[38;5;28mself\u001b[39m\u001b[38;5;241m.\u001b[39mencoding, errors\u001b[38;5;241m=\u001b[39m\u001b[38;5;28mself\u001b[39m\u001b[38;5;241m.\u001b[39mchar_decode_errors)\n",
      "\u001b[0;31mUnicodeDecodeError\u001b[0m: 'ascii' codec can't decode byte 0xc7 in position 10: ordinal not in range(128)"
     ]
    }
   ],
   "source": [
    "from pandas import DataFrame\n",
    "\n",
    "dbf = DBF('LEPTBR20.dbf')\n",
    "df = DataFrame(iter(dbf))\n"
   ]
  },
  {
   "cell_type": "code",
   "execution_count": 3,
   "id": "8f693f07-761f-4c32-b738-7ec4873fe0ed",
   "metadata": {
    "tags": []
   },
   "outputs": [
    {
     "ename": "UnicodeDecodeError",
     "evalue": "'utf-8' codec can't decode byte 0xc7 in position 10: invalid continuation byte",
     "output_type": "error",
     "traceback": [
      "\u001b[0;31m---------------------------------------------------------------------------\u001b[0m",
      "\u001b[0;31mUnicodeDecodeError\u001b[0m                        Traceback (most recent call last)",
      "Cell \u001b[0;32mIn[3], line 1\u001b[0m\n\u001b[0;32m----> 1\u001b[0m df \u001b[38;5;241m=\u001b[39m dbf\u001b[38;5;241m.\u001b[39mto_dataframe()\n",
      "File \u001b[0;32m~/anaconda3/lib/python3.11/site-packages/simpledbf/simpledbf.py:316\u001b[0m, in \u001b[0;36mDbfBase.to_dataframe\u001b[0;34m(self, chunksize, na)\u001b[0m\n\u001b[1;32m    313\u001b[0m \u001b[38;5;28mself\u001b[39m\u001b[38;5;241m.\u001b[39m_na_set(na)\n\u001b[1;32m    314\u001b[0m \u001b[38;5;28;01mif\u001b[39;00m \u001b[38;5;129;01mnot\u001b[39;00m chunksize:\n\u001b[1;32m    315\u001b[0m     \u001b[38;5;66;03m# _get_recs is a generator, convert to list for DataFrame\u001b[39;00m\n\u001b[0;32m--> 316\u001b[0m     results \u001b[38;5;241m=\u001b[39m \u001b[38;5;28mlist\u001b[39m(\u001b[38;5;28mself\u001b[39m\u001b[38;5;241m.\u001b[39m_get_recs())\n\u001b[1;32m    317\u001b[0m     df \u001b[38;5;241m=\u001b[39m pd\u001b[38;5;241m.\u001b[39mDataFrame(results, columns\u001b[38;5;241m=\u001b[39m\u001b[38;5;28mself\u001b[39m\u001b[38;5;241m.\u001b[39mcolumns)\n\u001b[1;32m    318\u001b[0m     \u001b[38;5;28;01mdel\u001b[39;00m(results) \u001b[38;5;66;03m# Free up the memory? If GC works properly\u001b[39;00m\n",
      "File \u001b[0;32m~/anaconda3/lib/python3.11/site-packages/simpledbf/simpledbf.py:601\u001b[0m, in \u001b[0;36mDbf5._get_recs\u001b[0;34m(self, chunk)\u001b[0m\n\u001b[1;32m    599\u001b[0m     value \u001b[38;5;241m=\u001b[39m \u001b[38;5;28mself\u001b[39m\u001b[38;5;241m.\u001b[39m_na\n\u001b[1;32m    600\u001b[0m \u001b[38;5;28;01melse\u001b[39;00m:\n\u001b[0;32m--> 601\u001b[0m     value \u001b[38;5;241m=\u001b[39m value\u001b[38;5;241m.\u001b[39mdecode(\u001b[38;5;28mself\u001b[39m\u001b[38;5;241m.\u001b[39m_enc)\n\u001b[1;32m    602\u001b[0m     \u001b[38;5;66;03m# Escape quoted characters\u001b[39;00m\n\u001b[1;32m    603\u001b[0m     \u001b[38;5;28;01mif\u001b[39;00m \u001b[38;5;28mself\u001b[39m\u001b[38;5;241m.\u001b[39m_esc:\n",
      "\u001b[0;31mUnicodeDecodeError\u001b[0m: 'utf-8' codec can't decode byte 0xc7 in position 10: invalid continuation byte"
     ]
    }
   ],
   "source": []
  },
  {
   "cell_type": "code",
   "execution_count": null,
   "id": "6e5a5890-c5e1-4408-9015-00a577152623",
   "metadata": {},
   "outputs": [],
   "source": []
  }
 ],
 "metadata": {
  "kernelspec": {
   "display_name": "Python 3 (ipykernel)",
   "language": "python",
   "name": "python3"
  },
  "language_info": {
   "codemirror_mode": {
    "name": "ipython",
    "version": 3
   },
   "file_extension": ".py",
   "mimetype": "text/x-python",
   "name": "python",
   "nbconvert_exporter": "python",
   "pygments_lexer": "ipython3",
   "version": "3.11.5"
  }
 },
 "nbformat": 4,
 "nbformat_minor": 5
}
